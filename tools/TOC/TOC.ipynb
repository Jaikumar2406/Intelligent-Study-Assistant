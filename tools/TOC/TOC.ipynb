{
 "cells": [
  {
   "cell_type": "code",
   "execution_count": 1,
   "id": "c573a1b3-c05f-4cee-8fef-9cd2f39e0b37",
   "metadata": {},
   "outputs": [],
   "source": [
    "import os\n",
    "import fitz\n",
    "from dotenv import load_dotenv\n",
    "from langchain_groq import ChatGroq\n",
    "from pinecone import Pinecone , ServerlessSpec\n",
    "from langchain_community.embeddings import HuggingFaceBgeEmbeddings\n",
    "from langchain_pinecone import PineconeVectorStore\n",
    "from langchain.schema import Document"
   ]
  },
  {
   "cell_type": "code",
   "execution_count": 2,
   "id": "8459fc5c-55c8-444a-a3ac-7adf5372bdbb",
   "metadata": {},
   "outputs": [
    {
     "data": {
      "text/plain": [
       "True"
      ]
     },
     "execution_count": 2,
     "metadata": {},
     "output_type": "execute_result"
    }
   ],
   "source": [
    "load_dotenv()"
   ]
  },
  {
   "cell_type": "code",
   "execution_count": 3,
   "id": "ac1a90e0-ae87-4d66-b1ff-ae286d82d7df",
   "metadata": {},
   "outputs": [],
   "source": [
    "pine_cone = os.getenv('pine_cone')\n",
    "groq = os.getenv('groq')\n",
    "hugging_face = os.getenv(\"hugging_face\")"
   ]
  },
  {
   "cell_type": "code",
   "execution_count": 4,
   "id": "4a2ab3bd-d22f-4a65-be7d-6c26f5974cf0",
   "metadata": {},
   "outputs": [],
   "source": [
    "files= [\"toc-klp-mishra.pdf\",\n",
    "       \"Hopcroft-Motwani-Ullman-2001.pdf\"]"
   ]
  },
  {
   "cell_type": "code",
   "execution_count": 5,
   "id": "ab0a6990-8e1f-4654-89f0-b01d0ce004eb",
   "metadata": {},
   "outputs": [],
   "source": [
    "text = \"\"\n",
    "for file in files:\n",
    "    doc = fitz.open(file)\n",
    "    for page in doc:\n",
    "        text += page.get_text()\n",
    "    "
   ]
  },
  {
   "cell_type": "code",
   "execution_count": 6,
   "id": "0f7f7e14-3946-46de-8fcc-24c0f93ed322",
   "metadata": {},
   "outputs": [
    {
     "data": {
      "text/plain": [
       "\"http://engineeringbooks.net\\nTHEORY OF COMPUTER SCIENCE\\nAutomata, Languages and Computation\\nTHIRD EDITION\\nK.l.P. MISHRA\\nFormerly Professor\\nDepartment of Electrical and Electronics Engineering\\nand Principal/ Regional Engineering College\\nTiruchirapal/i\\nN. CHANDRASEKARAN\\nProfessor\\nDepartment of Mathematics\\nSt. Joseph/s College\\nTiruchirapalli\\nPrentice'Hall of India [P[?lmGJD@ LsOWJov8d]\\nNew Delhi - 110 '001\\n2008\\nhttp://engineeringbooks.net\\nPreface\\nNotations\\nContents\\nix\\nXl\\n1.\\nPROPOSITIONS AND PREDICATES\\n1-35\\n1.1\\nPropositions (or Statements)\\n1\\n1.1.1\\nConnectives (Propositional Connectives\\nor Logical Connectives)\\n2\\n1.1.2\\nWell-formed Formulas\\n6\\n1.1.3\\nTruth Table for a Well-formed Formula\\n7\\n1.1.4 Equivalence of Well-formed Formulas\\n9\\n1.1.5\\nLogical Identities\\n9\\n1.2\\nNormal Forms of Well-formed Formulas\\n11\\n1.2.1\\nConstruction to Obtain a Disjunctive Normal\\nForm of a Given Formula\\nII\\n1.2.2\\nConstruction to Obtain the Principal\\nDisjunctive Normal Form of a Given Formula\\n12\\n1.3\\nRules of Inference for Propositional Calculus\\n(Statement Calculus)\\n15\\n1.4\\nPredicate Calculus\\n19\\n1.4.1\\nPredicates\\n19\\n1.4.2\\nWell-formed Formulas of Predicate Calculus\\n21\\n1.5\\nRules of Inference for Predicate Calculus\\n23\\n1.6\\nSupplementary Examples\\n26\\nSe(f-Test\\n31\\nExercises\\n32\\niii\\nhttp://engineeringbooks.net\\niv\\nJ;J\\nContents\\n2.\\nMATHEMATICAL PRELIMINARIES\\n2.1\\nSets, Relations and Functions\\n36\\n2.1.1\\nSets and Subsets\\n36\\n2.1.2\\nSets with One Binary Operation\\n37\\n2.1.3\\nSets with Two Binary Operations\\n39\\n2.1.4\\nRelations\\n40\\n2.1.5\\nClosure of Relations\\n43\\n2.1.6\\nFunctions\\n45\\n2.2\\nGraphs and Trees\\n47\\n2.2.1\\nGraphs\\n47\\n2.2.2\\nTrees\\n49\\n2.3\\nStrings and Their Properties\\n54\\n2.3.1\\nOperations on Strings\\n54\\n2.3.2\\nTerminal and Nonterrninal Symbols\\n56\\n2.4\\nPrinciple of Induction\\n57\\n2.4.1\\nMethod of Proof by Induction\\n57\\n2.4.2\\nModified Method of Induction\\n58\\n2.4.3\\nSimultaneous Induction\\n60\\n2.5\\nProof by Contradiction\\n61\\n2.6\\nSupplementary Examples\\n62\\nSelf-Test\\n66\\nExercises\\n67\\n36-70\\n3.\\nTHE THEORY OF AUTOMATA\\n71-106\\n3.1\\nDefinition of an Automaton\\n7]\\n3.2\\nDescription of a Finite Automaton\\n73\\n3.3\\nTransition Systems\\n74\\n3.4\\nPropeliies of Transition Functions\\n75\\n3.5\\nAcceptability of a String by a Finite Automaton\\n77\\n3.6\\nNondeterministic Finite State Machines\\n78\\n3.7\\nThe Equivalence of DFA and NDFA\\n80\\n3.8\\nMealy and Moore Models\\n84\\n3.8.1\\nFinite Automata with Outputs\\n84\\n3.8.2\\nProcedure for Transforming a Mealy Machine\\ninto a Moore Machine\\n85\\n3.8.3\\nProcedure for Transforming a Moore Machine\\ninto a Mealy Machine\\n87\\n3.9\\nMinimization of Finite Automata\\n91\\n3.9.1\\nConstruction of Minimum Automaton\\n92\\n3.10 Supplementary Examples\\n97\\nSelf-Test\\n103\\nExercises\\n]04\\nhttp://engineeringbooks.net\\nContents\\n!O!l\\nv\\n4.\\nFORMAL LANGUAGES\\n4.1\\nBasic Definitions and Examples\\n107\\n4.1.1\\nDefinition of a Grammar\\n109\\n4.1.2\\nDerivations and the Language Generated by a\\nGrammar\\n110\\n4.2\\nChomsky Classification of Languages\\n120\\n4.3\\nLanguages and Their Relation\\n123\\n4.4\\nRecursive and Recursively Enumerable Sets\\n124\\n4.5\\nOperations on Languages\\n126\\n4.6\\nLanguages and Automata\\n128\\n4.7\\nSupplementary Examples\\n129\\nSelf-Test\\n132\\nExercises\\n134\\n107-135\\n5.\\nREGULAR SETS\\nA~TJ) REGULAR GRAMMARS\\n136-179\\n5.1\\nRegular Expressions\\n136\\n5.1.1\\nIdentities for Regular Expressions\\n138\\n5.2\\nFinite Automata and Regular Expressions\\n140\\n5.2.1\\nTransition System Containing A-moves\\n140\\n5.2.2\\nNDFAs with A-moves and Regular Expressions\\n142\\n5.2.3\\nConversion of Nondeterministic Systems to\\nDeterministic Systems\\n146\\n5.2.4\\nAlgebraic Method Using Arden's Theorem\\n148\\n5.2.5\\nConstruction of Finite Automata Equivalent\\nto a Regular Expression\\n153\\n5.2.6\\nEquivalence of Two Finite Automata\\n157\\n5.2.7\\nEquivalence of Two Regular Expressions\\n160\\n5.3\\nPumping Lemma for Regular Sets\\n162\\n5.4\\nApplication of Pumping Lemma\\n163\\n5.5\\nClosure Properties of Regular Sets\\n165\\n5.6\\nRegular Sets and Regular Grammars\\n167\\n5.6.1\\nConstruction of a Regular Grammar Generating\\n~\\nT(M) for a Given DFA M\\n168\\n5.6.2\\nConstruction of a Transition System M Accepting\\nL(G) for a Given Regular Grammar G\\n169\\n5.7\\nSupplementary Examples\\n170\\nSelf-Test\\n175\\nExercises\\n176\\n6.\\nCONTEXT·FREE LANGUAGES\\n6.1\\nContext-free Languages and Derivation Trees\\n180\\n6.1.1\\nDerivation Trees\\n181\\n6.2\\nAmbiguity in Context-free Grammars\\n188\\n18G-226\\nhttp://engineeringbooks.net\\nvi\\n~\\nContents\\n189\\n190\\n196\\n199\\n201\\n6.3\\nSimplification of Context-free Grammars\\n6.3.1\\nConstruction of Reduced Grammars\\n6.3.2\\nElimination of Null Productions\\n6.3.3\\nElimination of Unit Productions\\n6.4\\nNormal Forms for Context-free Grammars\\n6.4.1\\nChomsky Normal Form\\n201\\n6.4.2\\nGreibach Normal Form\\n206\\n6.5\\nPumping Lemma for Context-free Languages\\n6.6\\nDecision Algorithms for Context-free Languages\\n6.7\\nSupplementary Examples\\n218\\nSelf-Test\\n223\\nExercises\\n224\\n213\\n217\\n7.\\nPUSHDOWN AUTOMATA\\n227-266\\n7.1\\nBasic Definitions\\n227\\n7.2\\nAcceptance by pda\\n233\\n7.3\\nPushdown Automata and Context-free Languages\\n240\\n7.4\\nParsing and Pushdown Automata\\n251\\n7.4.1\\nTop-down Parsing\\n252\\n7.4.2\\nTop-down Parsing Using Deterministic pda's\\n256\\n7.4.3\\nBottom-up Parsing\\n258\\n7.5\\nSupplementary Examples\\n260\\nSell Test\\n264\\nExercises\\n265\""
      ]
     },
     "execution_count": 6,
     "metadata": {},
     "output_type": "execute_result"
    }
   ],
   "source": [
    "text[:5000]"
   ]
  },
  {
   "cell_type": "code",
   "execution_count": 7,
   "id": "c8d9991c-c7ad-4eb1-9e45-ac91e03a16bd",
   "metadata": {},
   "outputs": [],
   "source": [
    "docs = [text[i:i+1000] for i in range(0 , len(text) , 1000)] "
   ]
  },
  {
   "cell_type": "code",
   "execution_count": 8,
   "id": "9b9816eb-2c36-404b-95d1-37a42cd13cf6",
   "metadata": {},
   "outputs": [
    {
     "data": {
      "text/plain": [
       "'.2\\nDescription of a Finite Automaton\\n73\\n3.3\\nTransition Systems\\n74\\n3.4\\nPropeliies of Transition Functions\\n75\\n3.5\\nAcceptability of a String by a Finite Automaton\\n77\\n3.6\\nNondeterministic Finite State Machines\\n78\\n3.7\\nThe Equivalence of DFA and NDFA\\n80\\n3.8\\nMealy and Moore Models\\n84\\n3.8.1\\nFinite Automata with Outputs\\n84\\n3.8.2\\nProcedure for Transforming a Mealy Machine\\ninto a Moore Machine\\n85\\n3.8.3\\nProcedure for Transforming a Moore Machine\\ninto a Mealy Machine\\n87\\n3.9\\nMinimization of Finite Automata\\n91\\n3.9.1\\nConstruction of Minimum Automaton\\n92\\n3.10 Supplementary Examples\\n97\\nSelf-Test\\n103\\nExercises\\n]04\\nhttp://engineeringbooks.net\\nContents\\n!O!l\\nv\\n4.\\nFORMAL LANGUAGES\\n4.1\\nBasic Definitions and Examples\\n107\\n4.1.1\\nDefinition of a Grammar\\n109\\n4.1.2\\nDerivations and the Language Generated by a\\nGrammar\\n110\\n4.2\\nChomsky Classification of Languages\\n120\\n4.3\\nLanguages and Their Relation\\n123\\n4.4\\nRecursive and Recursively Enumerable Sets\\n124\\n4.5\\nOperations on Languages\\n126\\n4.6\\nLanguages and Automata\\n128\\n4.7\\n'"
      ]
     },
     "execution_count": 8,
     "metadata": {},
     "output_type": "execute_result"
    }
   ],
   "source": [
    "docs[2]"
   ]
  },
  {
   "cell_type": "code",
   "execution_count": 9,
   "id": "b644cf8d-95d6-4d2f-ac4f-89b67c7645d5",
   "metadata": {
    "scrolled": true
   },
   "outputs": [
    {
     "name": "stderr",
     "output_type": "stream",
     "text": [
      "C:\\Users\\ankus\\AppData\\Local\\Temp\\ipykernel_12948\\1872894645.py:1: LangChainDeprecationWarning: The class `HuggingFaceBgeEmbeddings` was deprecated in LangChain 0.2.2 and will be removed in 1.0. An updated version of the class exists in the :class:`~langchain-huggingface package and should be used instead. To use it run `pip install -U :class:`~langchain-huggingface` and import as `from :class:`~langchain_huggingface import HuggingFaceEmbeddings``.\n",
      "  embeddings = HuggingFaceBgeEmbeddings(model_name='BAAI/bge-base-en-v1.5',\n"
     ]
    }
   ],
   "source": [
    "embeddings = HuggingFaceBgeEmbeddings(model_name='BAAI/bge-base-en-v1.5',\n",
    "                                     model_kwargs={'token': hugging_face})"
   ]
  },
  {
   "cell_type": "code",
   "execution_count": 10,
   "id": "ca870843-ac54-42a4-b7f1-9a43d09716f0",
   "metadata": {},
   "outputs": [],
   "source": [
    "pc = Pinecone(api_key=pine_cone)"
   ]
  },
  {
   "cell_type": "code",
   "execution_count": 11,
   "id": "8d573800-20ef-48e5-abf8-6e828516b2a4",
   "metadata": {},
   "outputs": [],
   "source": [
    "index = \"toc\""
   ]
  },
  {
   "cell_type": "code",
   "execution_count": 12,
   "id": "e6eb9eea-e511-49ef-b3bd-66d64cd79d50",
   "metadata": {},
   "outputs": [],
   "source": [
    "if index not in pc.list_indexes().names():\n",
    "    pc.create_index(name = index,\n",
    "    spec = ServerlessSpec(cloud=\"AWS\" , region=\"us-east-1\"),\n",
    "    dimension= 768,\n",
    "    metric=\"cosine\")"
   ]
  },
  {
   "cell_type": "code",
   "execution_count": 13,
   "id": "70d00708-a165-4260-b5f8-703d58261a40",
   "metadata": {},
   "outputs": [],
   "source": [
    "pinecone_index = pc.Index(name=index, host=os.getenv(\"host_bg\"))"
   ]
  },
  {
   "cell_type": "code",
   "execution_count": 14,
   "id": "b5d7085f-2bf5-41d1-bf8a-0cc42aa7e805",
   "metadata": {},
   "outputs": [],
   "source": [
    "docx = [Document(page_content=doxx) for doxx in docs]"
   ]
  },
  {
   "cell_type": "code",
   "execution_count": 15,
   "id": "cc2ae89a-1423-4432-9b53-5029875476c8",
   "metadata": {},
   "outputs": [],
   "source": [
    "vector = PineconeVectorStore(\n",
    "    index=pinecone_index,\n",
    "    embedding=embeddings,\n",
    "    text_key=\"page_content\"\n",
    ")"
   ]
  },
  {
   "cell_type": "code",
   "execution_count": 16,
   "id": "895a13dc-bad1-4b97-99e2-ecf96d74561f",
   "metadata": {},
   "outputs": [
    {
     "name": "stderr",
     "output_type": "stream",
     "text": [
      "100%|██████████████████████████████████████████████████████████████████████████████████| 23/23 [01:27<00:00,  3.79s/it]\n"
     ]
    }
   ],
   "source": [
    "from tqdm import tqdm\n",
    "batch_size = 32\n",
    "for i in tqdm(range(0, len(docx), batch_size)):\n",
    "    batch = docx[i:i+batch_size]\n",
    "    try:\n",
    "        vector.add_documents(batch)\n",
    "    except Exception as e:\n",
    "        print(f\"Error in batch {i}-{i+batch_size}: {e}\")"
   ]
  },
  {
   "cell_type": "code",
   "execution_count": 17,
   "id": "0ebb6f5c-c8e0-4cfe-b4ff-7b5900242461",
   "metadata": {},
   "outputs": [],
   "source": [
    "retriever =  vector.as_retriever()"
   ]
  },
  {
   "cell_type": "code",
   "execution_count": 18,
   "id": "5175cc9a-66f1-4a41-8e88-388e0186b8cc",
   "metadata": {},
   "outputs": [
    {
     "data": {
      "text/plain": [
       "[Document(id='2a740e93-fa65-49c5-89cf-a0d05d63f917', metadata={}, page_content='be used\\nfor proving many theorems throughout the book.\\n2.1\\nSETS, RELATIONS AND FUNCTIONS\\n2.1.1\\nSETS AND SUBSETS\\nA set is a well-defined collection of objects, for example, the set of all students\\nin a college. Similarly. the collection of all books in a college library is also a\\nset. The individual objects are called members or elements of the set.\\nWe use the capital letters A, B, C, ... for denoting sets. The small letters\\na, b, c, ... are used to denote the elements of any set. When a is an element\\nof the set A. we write a E A. \"\\\\Then a is not an element of A, we write a rl. A.\\nVarious Ways of Describing a Set\\n(i) By listing its elements. We write all the elements of the set (without\\nrepetition) and enclose them within braces. We can write the elements\\nin any order. For example, the set of all positive integers divisible by\\n15 and less than 100 can be wlitten as {IS. 30, 45. 60. 75. 90}.\\n(ii) By describing the properties ofthe elements ofthe set. For example. the\\nset {IS, 30. 45. 60.'),\n",
       " Document(id='82bfa821-d9d6-4c96-9be8-df8e2370d64f', metadata={}, page_content=\"th value is F if P has the truth value T. Usually, the truth\\nvalues of a proposition defined using a connective are listed in a table called\\nthe truth table for that connective (Table 1.1),\\nTABLE 1.1\\nTruth Table for Negation\\np\\nT\\nF\\n,p\\nF\\nT\\nConjunction (AND)\\nIf P and Q are two propositions, then the conjunction of P and Q (read as 'P\\nand Q') is a proposition (denoted by P 1\\\\ Q) whose truth values are as given\\nin Table 1.2.\\nhttp://engineeringbooks.net\\nChapter 1: Propositions and Predicates\\n!!!!\\n3\\nTABLE 1.2\\nTruth Table for Conjunction\\nP\\nT\\nT\\nF\\nF\\nQ\\nT\\nF\\nT\\nF\\nPI\\\\Q\\nT\\nF\\nF\\nF\\nDisjunction (OR)\\nIf P and Q are two propositions, then the disjunction of P and Q (read as 'P\\nor Q ') is a proposition (denoted by P v Q) whose truth values are as given\\nin Table 1.3.\\nTABLE 1.3\\nTruth Table for Disjunction\\nP\\nT\\nT\\nF\\nF\\nQ\\nT\\nF\\nT\\nF\\nPvQ\\nT\\nT\\nT\\nF\\nIt should be noted that P v Q is true if P is true or Q is true or both are\\ntrue. This OR is known as inclusive OR, i.e. either P is true or Q is true or\\nboth are true. Here we \"),\n",
       " Document(id='cfbcdef0-09eb-4b08-b6c5-c5d27692248a', metadata={}, page_content=\"have the\\nmachine language and higher level languages for a computer. we can have a\\nhigher level of description, called the implementation description. In this case\\nwe describe the movement of the head, the symbol stored etc. in English. For\\nexample, a single instruction like 'move to right till the end of the input string'\\nrequires several moves. A single instruction in the implementation description\\nis equivalent to several moves of a standard TM (Hereafter a standard TM\\nrefers to the TM defined in Definition 9.1). At a higher level we can give\\ninstructions in English language even without specifying the state or transition\\nfunction. This is called a high-level description.\\nIn the remaining sections of this chapter and later chapters, we give\\nimplementation description or high-level description.\\n9.6\\nTECHNIQUES FOR TM CONSTRUCTION\\nIn this section we give some high-level conceptual tools to make the\\nconstruction of TMs easier. The Turing machine defined in Section 9.1 is called\\nthe stan\"),\n",
       " Document(id='e0d70918-ece8-4fc0-bd56-81c83dbe5555', metadata={}, page_content='sitions and Predicates\\n~\\n5\\nTABLE 1.5\\nTruth Table for If and Only If\\nP\\nT\\nT\\nF\\nF\\nQ\\nP¢=;Q\\nT\\nT\\nF\\nF\\nT\\nF\\nF\\nT\\nTable 1.6 summarizes the representation and meaning of the five logical\\nconnectives discussed above.\\nTABLE 1.6\\nFive Basic Logical Connectives\\nConnective\\nNegation -,\\nConjunction /\\\\\\nDisjunction v\\nImplication ~\\nIf and only if\\n¢=;\\nResulting proposition\\n-,P\\nP\"\\nQ\\nPvQ\\nP~Q\\nP¢=;Q\\nRead as\\nNot P\\nP and Q\\nP or Q\\n(or both)\\nIf P then Q\\n(P implies Q)\\nP if and only if Q\\nEXAMPLE 1.3\\nTranslate the following sentences into propositional forms:\\n(a) If it is not raining and I have the time. then I will go to a movie.\\n(b) It is raining and I will not go to a movie..\\n(c) It is not raining.\\n./\\n(d) I will not go to a movie.\\n(e) I will go to a movie only if it is not raining.\\nSolution\\nLet P be the proposition \\'It is raining\\'.\\nLet Q be the proposition \\'I have the time\\'.\\nLet R be the proposition \\'1 will go to a movie\\'.\\nThen\\n(a) (-, P 1\\\\ Q)\\n=:} R\\n(b) P\\n1\\\\\\n---, R\\n(c)\\n---, P\\n(d)\\n---, R\\n(e) R\\n=:}\\n---, P\\nEXAMPLE 1.4\\nIf')]"
      ]
     },
     "execution_count": 18,
     "metadata": {},
     "output_type": "execute_result"
    }
   ],
   "source": [
    "retriever.invoke(\"what is TOC\")"
   ]
  },
  {
   "cell_type": "code",
   "execution_count": null,
   "id": "f17722db-628c-46b9-90ad-911f89b686c8",
   "metadata": {},
   "outputs": [],
   "source": []
  }
 ],
 "metadata": {
  "kernelspec": {
   "display_name": "genai_env",
   "language": "python",
   "name": "genai_env"
  },
  "language_info": {
   "codemirror_mode": {
    "name": "ipython",
    "version": 3
   },
   "file_extension": ".py",
   "mimetype": "text/x-python",
   "name": "python",
   "nbconvert_exporter": "python",
   "pygments_lexer": "ipython3",
   "version": "3.10.18"
  }
 },
 "nbformat": 4,
 "nbformat_minor": 5
}
