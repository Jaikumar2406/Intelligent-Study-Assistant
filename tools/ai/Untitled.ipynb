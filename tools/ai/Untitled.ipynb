{
 "cells": [
  {
   "cell_type": "code",
   "execution_count": 1,
   "id": "df50cf5b-df8e-4640-97b4-2f567264b8dc",
   "metadata": {},
   "outputs": [],
   "source": [
    "import os\n",
    "from dotenv import load_dotenv\n",
    "import fitz\n",
    "from langchain_community.embeddings import HuggingFaceBgeEmbeddings\n",
    "from langchain.schema import Document\n",
    "from langchain_pinecone import PineconeVectorStore\n",
    "from pinecone import Pinecone , ServerlessSpec"
   ]
  },
  {
   "cell_type": "code",
   "execution_count": 2,
   "id": "da993386-5f6b-4511-a588-d0ed9879c3f7",
   "metadata": {},
   "outputs": [
    {
     "data": {
      "text/plain": [
       "True"
      ]
     },
     "execution_count": 2,
     "metadata": {},
     "output_type": "execute_result"
    }
   ],
   "source": [
    "load_dotenv()"
   ]
  },
  {
   "cell_type": "code",
   "execution_count": 3,
   "id": "0f9b1adb-226f-4b63-a580-245af58764ea",
   "metadata": {},
   "outputs": [],
   "source": [
    "pine_cone = os.getenv('pine_cone')\n",
    "groq = os.getenv('groq')\n",
    "hugging_face = os.getenv(\"hugging_face\")"
   ]
  },
  {
   "cell_type": "code",
   "execution_count": 4,
   "id": "646aa15f-50be-469d-9414-8362fda233e2",
   "metadata": {},
   "outputs": [],
   "source": [
    "files = [\"toaz.info-artificial-intelligence-by-rich-and-knight-pr_d331df748f441aaea0367363b845a6b5.pdf\"]"
   ]
  },
  {
   "cell_type": "code",
   "execution_count": 10,
   "id": "e04fa547-e9f7-4bbb-98ad-7cbbb2ed5f1e",
   "metadata": {},
   "outputs": [],
   "source": [
    "text = \"\"\n",
    "for file in files:\n",
    "    doc = fitz.open(file)\n",
    "    for page in doc:\n",
    "        text += page.get_text()"
   ]
  },
  {
   "cell_type": "code",
   "execution_count": 11,
   "id": "38d5ef89-fb91-454a-999e-c3def0f4db99",
   "metadata": {},
   "outputs": [
    {
     "data": {
      "text/plain": [
       "''"
      ]
     },
     "execution_count": 11,
     "metadata": {},
     "output_type": "execute_result"
    }
   ],
   "source": [
    "text[:500]"
   ]
  },
  {
   "cell_type": "code",
   "execution_count": null,
   "id": "efc68a42-5cde-418f-904a-fa2b020099b4",
   "metadata": {},
   "outputs": [],
   "source": []
  }
 ],
 "metadata": {
  "kernelspec": {
   "display_name": "genai_env",
   "language": "python",
   "name": "genai_env"
  },
  "language_info": {
   "codemirror_mode": {
    "name": "ipython",
    "version": 3
   },
   "file_extension": ".py",
   "mimetype": "text/x-python",
   "name": "python",
   "nbconvert_exporter": "python",
   "pygments_lexer": "ipython3",
   "version": "3.10.18"
  }
 },
 "nbformat": 4,
 "nbformat_minor": 5
}
