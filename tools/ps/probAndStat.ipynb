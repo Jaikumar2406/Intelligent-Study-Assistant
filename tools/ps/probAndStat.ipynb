{
 "cells": [
  {
   "cell_type": "code",
   "execution_count": 1,
   "id": "af70754a-e573-4083-b95f-ff2b4dc9df89",
   "metadata": {},
   "outputs": [],
   "source": [
    "from dotenv import load_dotenv\n",
    "import os\n",
    "from langchain_groq import ChatGroq\n",
    "from langchain_pinecone import PineconeVectorStore\n",
    "from pinecone import ServerlessSpec , Pinecone\n",
    "import fitz\n",
    "from langchain.schema import Document\n",
    "from langchain_community.embeddings import HuggingFaceBgeEmbeddings"
   ]
  },
  {
   "cell_type": "code",
   "execution_count": 2,
   "id": "559f8999-7a44-4bd9-89dd-bd51db940122",
   "metadata": {},
   "outputs": [
    {
     "data": {
      "text/plain": [
       "True"
      ]
     },
     "execution_count": 2,
     "metadata": {},
     "output_type": "execute_result"
    }
   ],
   "source": [
    "load_dotenv()"
   ]
  },
  {
   "cell_type": "code",
   "execution_count": 3,
   "id": "d04e1704-afb5-4b1e-ba72-bb92cf057630",
   "metadata": {},
   "outputs": [],
   "source": [
    "pine_cone = os.getenv('pine_cone')\n",
    "groq = os.getenv('groq')\n",
    "hugging_face = os.getenv(\"hugging_face\")"
   ]
  },
  {
   "cell_type": "code",
   "execution_count": 4,
   "id": "6ff6c97b-44c6-406c-a092-bd39558cb309",
   "metadata": {},
   "outputs": [],
   "source": [
    "files = [\"Miller & Freund's Probability and Statistics for Engineers.pdf\",\n",
    "        \"vdoc.pub_probability-statistics-and-random-processes.pdf\"]"
   ]
  },
  {
   "cell_type": "code",
   "execution_count": 5,
   "id": "c6dc6ecc-2bb0-4355-a07f-d26f3989631e",
   "metadata": {},
   "outputs": [],
   "source": [
    "text = \"\"\n",
    "for file in files:\n",
    "    doc = fitz.open(file)\n",
    "    for page in doc:\n",
    "        text += page.get_text()"
   ]
  },
  {
   "cell_type": "code",
   "execution_count": 6,
   "id": "200fd6b0-c658-46b3-a235-e6df6c614944",
   "metadata": {},
   "outputs": [
    {
     "data": {
      "text/plain": [
       "'GLOBAL \\nEDITION\\nMiller & Freund’s\\nProbability and Statistics \\nfor Engineers\\nNINTH EDITION\\nRichard A. Johnson\\nMILLER & FREUND’S\\nPROBABILITY AND STATISTICS\\nFOR ENGINEERS\\nNINTH EDITION\\nGlobal Edition\\nRichard A. Johnson\\nUniversity of Wisconsin–Madison\\nBoston\\nColumbus\\nIndianapolis\\nNew York\\nSan Francisco\\nAmsterdam\\nCape Town\\nDubai\\nLondon\\nMadrid\\nMilan\\nMunich\\nParis\\nMontréal\\nToronto\\nDelhi\\nMexico City\\nSão Paulo\\nSydney\\nHong Kong\\nSeoul\\nSingapore\\nTaipei\\nTokyo\\nEditorial Director, Mathematics: Christine Hoag\\nEd'"
      ]
     },
     "execution_count": 6,
     "metadata": {},
     "output_type": "execute_result"
    }
   ],
   "source": [
    "text[:500]"
   ]
  },
  {
   "cell_type": "code",
   "execution_count": 7,
   "id": "a584e5a6-2538-49bd-b132-c9a3dfe272c3",
   "metadata": {},
   "outputs": [],
   "source": [
    "docs = [text[i:i+1000] for i in range(0, len(text), 1000)]"
   ]
  },
  {
   "cell_type": "code",
   "execution_count": 8,
   "id": "883f3fcd-2b2e-48ab-b9a0-f671858d626f",
   "metadata": {},
   "outputs": [
    {
     "data": {
      "text/plain": [
       "'ke Smith\\nField Marketing Manager: Evan St. Cyr\\nSenior Author Support/Technology Specialist: Joe Vetere\\nMedia Production Manager, Global Edition: Vikram Kumar\\nSenior Procurement Specialist: Carol Melville\\nSenior Manufacturing Controller, Global Editions: Kay Holman\\nInterior Design, Production Management, and Answer Art:\\niEnergizer Aptara Limited/Falls Church\\nCover Image: © MOLPIX/Shutterstock.com\\nFor permission to use copyrighted material, grateful acknowledgement is made to these copyright holders: Screenshots from Minitab. Courtesy of\\nMinitab Corporation. SAS Output Created with SAS® software. Copyright © 2013, SAS Institute Inc., Cary, NC, USA. All rights Reserved.\\nReproduced with permission of SAS Institute Inc., Cary, NC.\\nPEARSON AND ALWAYS LEARNING are exclusive trademarks in the U.S. and/or other countries owned by Pearson Education, Inc. or its affiliates.\\nPearson Education Limited\\nEdinburgh Gate\\nHarlow\\nEssex CM20 2JE\\nEngland\\nand Associated Companies throughout the world\\nVisit u'"
      ]
     },
     "execution_count": 8,
     "metadata": {},
     "output_type": "execute_result"
    }
   ],
   "source": [
    "docs[1]"
   ]
  },
  {
   "cell_type": "code",
   "execution_count": 9,
   "id": "39b2750c-ce68-4465-a18b-378c0259f0f8",
   "metadata": {},
   "outputs": [
    {
     "name": "stderr",
     "output_type": "stream",
     "text": [
      "C:\\Users\\ankus\\AppData\\Local\\Temp\\ipykernel_29452\\1872894645.py:1: LangChainDeprecationWarning: The class `HuggingFaceBgeEmbeddings` was deprecated in LangChain 0.2.2 and will be removed in 1.0. An updated version of the class exists in the :class:`~langchain-huggingface package and should be used instead. To use it run `pip install -U :class:`~langchain-huggingface` and import as `from :class:`~langchain_huggingface import HuggingFaceEmbeddings``.\n",
      "  embeddings = HuggingFaceBgeEmbeddings(model_name='BAAI/bge-base-en-v1.5',\n"
     ]
    }
   ],
   "source": [
    "embeddings = HuggingFaceBgeEmbeddings(model_name='BAAI/bge-base-en-v1.5',\n",
    "                                     model_kwargs={'token': hugging_face})"
   ]
  },
  {
   "cell_type": "code",
   "execution_count": 10,
   "id": "37531e16-b927-418d-8a94-e92db484a6aa",
   "metadata": {},
   "outputs": [],
   "source": [
    "pc = Pinecone(api_key=pine_cone)"
   ]
  },
  {
   "cell_type": "code",
   "execution_count": 12,
   "id": "9d88c028-dc68-47b2-ab2a-ff402afa588a",
   "metadata": {},
   "outputs": [],
   "source": [
    "index_name = \"probandstat\"\n",
    "if index_name not in pc.list_indexes().names():\n",
    "    pc.create_index(\n",
    "        name=index_name,\n",
    "        spec=ServerlessSpec(cloud=\"AWS\", region=\"us-east-1\"),\n",
    "        dimension=768,\n",
    "        metric='cosine'\n",
    "    )"
   ]
  },
  {
   "cell_type": "code",
   "execution_count": 13,
   "id": "aac42698-7caf-4de5-8b31-2e7351d936e2",
   "metadata": {},
   "outputs": [],
   "source": [
    "pinecone_index = pc.Index(name=index_name, host=os.getenv(\"host_bg\"))"
   ]
  },
  {
   "cell_type": "code",
   "execution_count": 14,
   "id": "3cfe3205-7e19-435e-93c4-278531523ca8",
   "metadata": {},
   "outputs": [],
   "source": [
    "docx = [Document(page_content=docss) for docss in docs]"
   ]
  },
  {
   "cell_type": "code",
   "execution_count": 15,
   "id": "8a3df8d8-205e-4deb-9ca9-932d84a5da86",
   "metadata": {},
   "outputs": [],
   "source": [
    "vector = PineconeVectorStore(\n",
    "    index=pinecone_index,\n",
    "    embedding=embeddings,\n",
    "    text_key=\"page_content\"\n",
    ")"
   ]
  },
  {
   "cell_type": "code",
   "execution_count": 16,
   "id": "3d79e5e8-61d7-4cf7-ae77-8b21f3d66ae5",
   "metadata": {},
   "outputs": [
    {
     "name": "stderr",
     "output_type": "stream",
     "text": [
      "100%|██████████████████████████████████████████████████████████████████████████████████| 68/68 [13:47<00:00, 12.17s/it]\n"
     ]
    }
   ],
   "source": [
    "from tqdm import tqdm\n",
    "batch_size = 32\n",
    "for i in tqdm(range(0, len(docx), batch_size)):\n",
    "    batch = docx[i:i+batch_size]\n",
    "    try:\n",
    "        vector.add_documents(batch)\n",
    "    except Exception as e:\n",
    "        print(f\"Error in batch {i}-{i+batch_size}: {e}\")"
   ]
  },
  {
   "cell_type": "code",
   "execution_count": 19,
   "id": "276859cf-e1ee-4405-9a90-9334956157de",
   "metadata": {},
   "outputs": [],
   "source": [
    "retriever = vector.as_retriever()"
   ]
  },
  {
   "cell_type": "code",
   "execution_count": 20,
   "id": "d160c6a1-2f32-4553-858e-19e39fc8a5ff",
   "metadata": {},
   "outputs": [
    {
     "data": {
      "text/plain": [
       "[Document(id='596f3007-2845-41e1-bc2d-62ca58389657', metadata={}, page_content='ch throws, where we predict the result with the help of the previous knowledge. So here is how the \\nterm ‘probability’ can be defined with the help of some other terms given below.\\nProbability\\u2003\\n\\ue06a\\u2003 5\\nSome Definitions of Probability\\n1.\\u2003 Random experiment: An experiment whose outcome or results are not unique and which cannot \\nbe predicted with certainty is called random experiment.\\nExample: Tossing of a coin, throwing a dice, etc.\\n2.\\u2003 Sample space: The set of all outcomes of a random experiment is called sample space and is \\ndenoted by S.\\nExample: When a dice is thrown the sample space is, S = {1, 2, 3, 4, 5, 6}.\\n3.\\u2003 Event: It is a subset of sample space.\\nExample: E1 = {1, 3, 5}.\\nThe UNION of two events A and B denoted by A\\nB\\n∪\\n is the event containing all the elements that \\nbelong to A or B or both.\\nExample: Let A = {1, 2, 3}, B = {3, 4, 5, 6}\\nThen, A\\nB\\n∪\\n = {1, 2, 3, 4, 5, 6}\\nThe INTERSECTION of two events A and B denoted by A\\nB\\n∩\\n is the event containing all the ele\\xad\\nments that are co'),\n",
       " Document(id='62aa8ed4-470b-4003-8722-4bd4a255cf61', metadata={}, page_content='equally likely events if each of the ele\\xad\\nments have equal chance of occurrence.\\n6\\u2003\\n\\ue06a\\u2003 Probability, Statistics and Random Processes\\nMathematical or Classical Probability\\nIf an event E can occur in m ways out of n mutually exclusive, equally likely and collectively exhaustive \\nways, then the probability of occurrence of an event E, denoted by P(E) is given by\\nP E\\nE\\n( ) = Favourable number of cases for \\nTotal number of cases\\nP E\\nm\\nn\\n( ) =\\nCaution:\\n• The probability of occurrence of an event E is called its success, denoted by P(E) and its non-\\noccurrence is called its failure, denoted by P E\\n( ).\\n• The probability of non-occurrence of the event is given as follows:\\nP E\\nE\\n(\\nFavourable number of cases for\\nTotal number of cases\\n) =\\n= n\\nm\\nn\\nm\\nn\\n−\\n= −\\n1\\nP E\\nP E\\n( ) = −\\n1\\n( ) \\n∴\\n+\\n=\\nP E\\nP E\\n( )\\n( )\\n1\\n∴(p + q) = 1\\n• Probability of a sure event (certain event) is always 1.\\n• Probability of an impossible event is 0.\\n• The definition of probability fails when the outcomes are not equally likely.\\n•'),\n",
       " Document(id='6c50176d-637c-455f-b2ba-c884856a1aca', metadata={}, page_content='the values of a probability distribution, we shall use such symbols as\\nf (x), g(x), ϕ(y), h(z), and so on. Strictly speaking, it is the function f (x) = P(X = x)\\nwhich assigns probability to each possible outcome x that is called the probability\\ndistribution. However, we will follow the common practice of also calling f(x) the\\nprobability distribution, with the understanding that we are referring to the function\\nand that the range of x values is part of the deﬁnition.\\n96\\nChapter 4\\nProbability Distributions\\nRandom variables are usually classiﬁed according to the number of values they\\ncan assume. In this chapter we shall limit our discussion to discrete random vari-\\nables, which can take on only a ﬁnite number, or a countable inﬁnity of values;\\ncontinuous random variables are taken up in Chapter 5.\\nWhenever possible, we try to express probability distributions by means of\\nequations. Otherwise, we must give a table that actually exhibits the correspon-\\ndence between the values of the rand'),\n",
       " Document(id='016612f8-8e25-4bda-bf52-a1e228eb4820', metadata={}, page_content=' in connection with games of chance. It applies when all\\npossible outcomes are equally likely.\\nIf there are m equally likely possibilities, of which one must occur and s are\\nregarded as favorable, or as a “success,” then the probability of a “success” is\\ngiven by s\\nm .\\nThe classical probability\\nconcept\\nIn the application of this rule, the terms favorable and success are used rather loosely—\\nfavorable may mean that a television set does not work and success may mean that\\nsomeone catches the ﬂu.\\nEXAMPLE 11\\nWell-shuffled cards are equally likely to be selected\\nWhat is the probability of drawing an ace from a well-shuffled deck of 52 playing\\ncards?\\nSolution\\nThere are s = 4 aces among the m = 52 cards, so we get\\ns\\nm = 4\\n52 = 1\\n13\\nj\\nAlthough equally likely possibilities are found mostly in games of chance, the\\nclassical probability concept applies also to a great variety of situations where gam-\\nbling devices are used to make random selections. They occur when offices are\\nassigned to researc')]"
      ]
     },
     "execution_count": 20,
     "metadata": {},
     "output_type": "execute_result"
    }
   ],
   "source": [
    "retriever.invoke(\"what is probability\")"
   ]
  },
  {
   "cell_type": "code",
   "execution_count": null,
   "id": "35979f4d-ef9c-46d2-a988-f9ef0f6ecdc2",
   "metadata": {},
   "outputs": [],
   "source": []
  }
 ],
 "metadata": {
  "kernelspec": {
   "display_name": "genai_env",
   "language": "python",
   "name": "genai_env"
  },
  "language_info": {
   "codemirror_mode": {
    "name": "ipython",
    "version": 3
   },
   "file_extension": ".py",
   "mimetype": "text/x-python",
   "name": "python",
   "nbconvert_exporter": "python",
   "pygments_lexer": "ipython3",
   "version": "3.10.18"
  }
 },
 "nbformat": 4,
 "nbformat_minor": 5
}
